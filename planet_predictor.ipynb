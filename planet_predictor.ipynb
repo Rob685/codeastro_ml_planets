{
 "cells": [
  {
   "cell_type": "code",
   "execution_count": 1,
   "metadata": {},
   "outputs": [],
   "source": [
    "import pandas as pd\n",
    "import numpy as np\n",
    "from sklearn import datasets, linear_model\n",
    "from sklearn.model_selection import train_test_split\n",
    "from matplotlib import pyplot as plt\n",
    "import tensorflow as tf\n",
    "from tensorflow import keras\n",
    "from xgboost import XGBClassifier\n",
    "from sklearn.metrics import accuracy_score\n",
    "# Fit model to training data\n",
    "import pickle as pkl"
   ]
  },
  {
   "cell_type": "markdown",
   "metadata": {},
   "source": [
    "## Load data and engineer our features"
   ]
  },
  {
   "cell_type": "code",
   "execution_count": 2,
   "metadata": {},
   "outputs": [],
   "source": [
    "# Load in the data from nasa exoplanet archive\n",
    "df = pd.read_csv(\"planets_2020.06.23_15.26.09.csv\", skiprows=147)"
   ]
  },
  {
   "cell_type": "code",
   "execution_count": 3,
   "metadata": {},
   "outputs": [],
   "source": [
    "# Turn the catagorical discovery method column into a numerical variable based on the % w/ which that category appears in the data\n",
    "representation_map = {}\n",
    "for category in df[\"pl_discmethod\"].unique():\n",
    "    representation_map[category] = len(df[(df[\"pl_discmethod\"] == category)]) / len(df)\n",
    "df[\"pct_discmethod\"] = df[\"pl_discmethod\"].map(representation_map)\n",
    "\n",
    "# Turn the number of planets column into 0's for 1 planet and 1 for > 1 planet\n",
    "def multiple_planet_check(row):\n",
    "    return 1 if row[\"pl_pnum\"] > 1 else 0\n",
    "\n",
    "\n",
    "x = df[[\"st_mass\", \"st_teff\", \"st_rad\", \"pct_discmethod\"]]\n",
    "y = df.apply(multiple_planet_check, axis=1)"
   ]
  },
  {
   "cell_type": "markdown",
   "metadata": {},
   "source": [
    "## Split the data into a testing and training set"
   ]
  },
  {
   "cell_type": "code",
   "execution_count": 5,
   "metadata": {},
   "outputs": [],
   "source": [
    "# Split the dataset into training, and testing set\n",
    "X_train, X_test_eval, y_train, y_test_eval = train_test_split(x, y, test_size=0.5)\n",
    "\n",
    "# Further splitting the test set into a test and validation set\n",
    "X_eval, X_test, y_eval, y_test = train_test_split(X_test_eval, y_test_eval, test_size=0.5)\n",
    "\n",
    "# Create the model, use the validation set to help estimate performance\n",
    "eval_set = [(X_eval, y_eval)]\n",
    "model = XGBClassifier()\n",
    "model.fit(X_train, y_train, eval_metric = \"error\", eval_set = eval_set, early_stopping_rounds = 50, verbose = False)\n",
    "\n",
    "# save model to file\n",
    "pkl.dump(model, open(\"num_planets_model.p\", \"wb\"))"
   ]
  },
  {
   "cell_type": "markdown",
   "metadata": {},
   "source": [
    "## Train"
   ]
  },
  {
   "cell_type": "markdown",
   "metadata": {},
   "source": [
    "## Test"
   ]
  },
  {
   "cell_type": "code",
   "execution_count": 6,
   "metadata": {},
   "outputs": [],
   "source": [
    "# make predictions for test data\n",
    "y_pred = model.predict(X_test)\n",
    "predictions = [round(value) for value in y_pred]"
   ]
  },
  {
   "cell_type": "code",
   "execution_count": 7,
   "metadata": {},
   "outputs": [
    {
     "name": "stdout",
     "output_type": "stream",
     "text": [
      "Accuracy: 83.29%\n"
     ]
    }
   ],
   "source": [
    "accuracy = accuracy_score(y_test, predictions)\n",
    "print(\"Accuracy: %.2f%%\" % (accuracy * 100.0))"
   ]
  },
  {
   "cell_type": "code",
   "execution_count": null,
   "metadata": {},
   "outputs": [],
   "source": []
  }
 ],
 "metadata": {
  "kernelspec": {
   "display_name": "Python 3",
   "language": "python",
   "name": "python3"
  },
  "language_info": {
   "codemirror_mode": {
    "name": "ipython",
    "version": 3
   },
   "file_extension": ".py",
   "mimetype": "text/x-python",
   "name": "python",
   "nbconvert_exporter": "python",
   "pygments_lexer": "ipython3",
   "version": "3.7.4"
  }
 },
 "nbformat": 4,
 "nbformat_minor": 4
}
