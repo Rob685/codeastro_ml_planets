{
 "cells": [
  {
   "cell_type": "code",
   "execution_count": 1,
   "metadata": {},
   "outputs": [],
   "source": [
    "import pandas as pd\n",
    "import numpy as np\n",
    "from sklearn import datasets, linear_model\n",
    "from sklearn.model_selection import train_test_split\n",
    "from matplotlib import pyplot as plt\n",
    "import tensorflow as tf\n",
    "from tensorflow import keras\n",
    "from xgboost import XGBClassifier\n",
    "from sklearn.metrics import accuracy_score"
   ]
  },
  {
   "cell_type": "code",
   "execution_count": 2,
   "metadata": {},
   "outputs": [
    {
     "data": {
      "application/javascript": [
       "\n",
       "            setTimeout(function() {\n",
       "                var nbb_cell_id = 2;\n",
       "                var nbb_unformatted_code = \"%load_ext nb_black\";\n",
       "                var nbb_formatted_code = \"%load_ext nb_black\";\n",
       "                var nbb_cells = Jupyter.notebook.get_cells();\n",
       "                for (var i = 0; i < nbb_cells.length; ++i) {\n",
       "                    if (nbb_cells[i].input_prompt_number == nbb_cell_id) {\n",
       "                        if (nbb_cells[i].get_text() == nbb_unformatted_code) {\n",
       "                             nbb_cells[i].set_text(nbb_formatted_code);\n",
       "                        }\n",
       "                        break;\n",
       "                    }\n",
       "                }\n",
       "            }, 500);\n",
       "            "
      ],
      "text/plain": [
       "<IPython.core.display.Javascript object>"
      ]
     },
     "metadata": {},
     "output_type": "display_data"
    }
   ],
   "source": [
    "%load_ext nb_black"
   ]
  },
  {
   "cell_type": "markdown",
   "metadata": {},
   "source": [
    "## Load data and engineer our features"
   ]
  },
  {
   "cell_type": "code",
   "execution_count": 3,
   "metadata": {},
   "outputs": [
    {
     "data": {
      "application/javascript": [
       "\n",
       "            setTimeout(function() {\n",
       "                var nbb_cell_id = 3;\n",
       "                var nbb_unformatted_code = \"# Load in the data from nasa exoplanet archive\\ndf = pd.read_csv(\\\"planets_2020.06.23_15.26.09.csv\\\", skiprows=147)\";\n",
       "                var nbb_formatted_code = \"# Load in the data from nasa exoplanet archive\\ndf = pd.read_csv(\\\"planets_2020.06.23_15.26.09.csv\\\", skiprows=147)\";\n",
       "                var nbb_cells = Jupyter.notebook.get_cells();\n",
       "                for (var i = 0; i < nbb_cells.length; ++i) {\n",
       "                    if (nbb_cells[i].input_prompt_number == nbb_cell_id) {\n",
       "                        if (nbb_cells[i].get_text() == nbb_unformatted_code) {\n",
       "                             nbb_cells[i].set_text(nbb_formatted_code);\n",
       "                        }\n",
       "                        break;\n",
       "                    }\n",
       "                }\n",
       "            }, 500);\n",
       "            "
      ],
      "text/plain": [
       "<IPython.core.display.Javascript object>"
      ]
     },
     "metadata": {},
     "output_type": "display_data"
    }
   ],
   "source": [
    "# Load in the data from nasa exoplanet archive\n",
    "df = pd.read_csv(\"planets_2020.06.23_15.26.09.csv\", skiprows=147)"
   ]
  },
  {
   "cell_type": "code",
   "execution_count": 4,
   "metadata": {},
   "outputs": [
    {
     "data": {
      "application/javascript": [
       "\n",
       "            setTimeout(function() {\n",
       "                var nbb_cell_id = 4;\n",
       "                var nbb_unformatted_code = \"# Turn the catagorical discovery method column into a numerical variable based on the % w/ which that category appears in the data\\nrepresentation_map = {}\\nfor category in df[\\\"pl_discmethod\\\"].unique():\\n    representation_map[category] = len(df[(df[\\\"pl_discmethod\\\"] == category)]) / len(df)\\ndf[\\\"pct_discmethod\\\"] = df[\\\"pl_discmethod\\\"].map(representation_map)\\n\\n# Turn the number of planets column into 0's for 1 planet and 1 for > 1 planet\\ndef multiple_planet_check(row):\\n    return 1 if row[\\\"pl_pnum\\\"] > 1 else 0\\n\\nx = df[[\\\"st_mass\\\", \\\"st_teff\\\", \\\"st_rad\\\", \\\"pl_orbsmax\\\", \\\"pct_discmethod\\\"]]\\ny = df.apply(multiple_planet_check, axis=1)\";\n",
       "                var nbb_formatted_code = \"# Turn the catagorical discovery method column into a numerical variable based on the % w/ which that category appears in the data\\nrepresentation_map = {}\\nfor category in df[\\\"pl_discmethod\\\"].unique():\\n    representation_map[category] = len(df[(df[\\\"pl_discmethod\\\"] == category)]) / len(df)\\ndf[\\\"pct_discmethod\\\"] = df[\\\"pl_discmethod\\\"].map(representation_map)\\n\\n# Turn the number of planets column into 0's for 1 planet and 1 for > 1 planet\\ndef multiple_planet_check(row):\\n    return 1 if row[\\\"pl_pnum\\\"] > 1 else 0\\n\\n\\nx = df[[\\\"st_mass\\\", \\\"st_teff\\\", \\\"st_rad\\\", \\\"pl_orbsmax\\\", \\\"pct_discmethod\\\"]]\\ny = df.apply(multiple_planet_check, axis=1)\";\n",
       "                var nbb_cells = Jupyter.notebook.get_cells();\n",
       "                for (var i = 0; i < nbb_cells.length; ++i) {\n",
       "                    if (nbb_cells[i].input_prompt_number == nbb_cell_id) {\n",
       "                        if (nbb_cells[i].get_text() == nbb_unformatted_code) {\n",
       "                             nbb_cells[i].set_text(nbb_formatted_code);\n",
       "                        }\n",
       "                        break;\n",
       "                    }\n",
       "                }\n",
       "            }, 500);\n",
       "            "
      ],
      "text/plain": [
       "<IPython.core.display.Javascript object>"
      ]
     },
     "metadata": {},
     "output_type": "display_data"
    }
   ],
   "source": [
    "# Turn the catagorical discovery method column into a numerical variable based on the % w/ which that category appears in the data\n",
    "representation_map = {}\n",
    "for category in df[\"pl_discmethod\"].unique():\n",
    "    representation_map[category] = len(df[(df[\"pl_discmethod\"] == category)]) / len(df)\n",
    "df[\"pct_discmethod\"] = df[\"pl_discmethod\"].map(representation_map)\n",
    "\n",
    "# Turn the number of planets column into 0's for 1 planet and 1 for > 1 planet\n",
    "def multiple_planet_check(row):\n",
    "    return 1 if row[\"pl_pnum\"] > 1 else 0\n",
    "\n",
    "\n",
    "x = df[[\"st_mass\", \"st_teff\", \"st_rad\", \"pl_orbsmax\", \"pct_discmethod\"]]\n",
    "y = df.apply(multiple_planet_check, axis=1)"
   ]
  },
  {
   "cell_type": "markdown",
   "metadata": {},
   "source": [
    "## Split the data into a testing and training set"
   ]
  },
  {
   "cell_type": "code",
   "execution_count": 5,
   "metadata": {},
   "outputs": [
    {
     "data": {
      "application/javascript": [
       "\n",
       "            setTimeout(function() {\n",
       "                var nbb_cell_id = 5;\n",
       "                var nbb_unformatted_code = \"X_train, X_test, y_train, y_test = train_test_split(x, y, test_size=0.2)\";\n",
       "                var nbb_formatted_code = \"X_train, X_test, y_train, y_test = train_test_split(x, y, test_size=0.2)\";\n",
       "                var nbb_cells = Jupyter.notebook.get_cells();\n",
       "                for (var i = 0; i < nbb_cells.length; ++i) {\n",
       "                    if (nbb_cells[i].input_prompt_number == nbb_cell_id) {\n",
       "                        if (nbb_cells[i].get_text() == nbb_unformatted_code) {\n",
       "                             nbb_cells[i].set_text(nbb_formatted_code);\n",
       "                        }\n",
       "                        break;\n",
       "                    }\n",
       "                }\n",
       "            }, 500);\n",
       "            "
      ],
      "text/plain": [
       "<IPython.core.display.Javascript object>"
      ]
     },
     "metadata": {},
     "output_type": "display_data"
    }
   ],
   "source": [
    "X_train, X_test, y_train, y_test = train_test_split(x, y, test_size=0.2)"
   ]
  },
  {
   "cell_type": "markdown",
   "metadata": {},
   "source": [
    "## Train"
   ]
  },
  {
   "cell_type": "code",
   "execution_count": 6,
   "metadata": {},
   "outputs": [
    {
     "data": {
      "application/javascript": [
       "\n",
       "            setTimeout(function() {\n",
       "                var nbb_cell_id = 6;\n",
       "                var nbb_unformatted_code = \"# Fit model to training data\\nimport pickle as pkl\\n\\nmodel = XGBClassifier()\\nmodel.fit(X_train, y_train)\\n\\n# save model to file\\npkl.dump(model, open(\\\"num_planets_model.p\\\", \\\"wb\\\"))\";\n",
       "                var nbb_formatted_code = \"# Fit model to training data\\nimport pickle as pkl\\n\\nmodel = XGBClassifier()\\nmodel.fit(X_train, y_train)\\n\\n# save model to file\\npkl.dump(model, open(\\\"num_planets_model.p\\\", \\\"wb\\\"))\";\n",
       "                var nbb_cells = Jupyter.notebook.get_cells();\n",
       "                for (var i = 0; i < nbb_cells.length; ++i) {\n",
       "                    if (nbb_cells[i].input_prompt_number == nbb_cell_id) {\n",
       "                        if (nbb_cells[i].get_text() == nbb_unformatted_code) {\n",
       "                             nbb_cells[i].set_text(nbb_formatted_code);\n",
       "                        }\n",
       "                        break;\n",
       "                    }\n",
       "                }\n",
       "            }, 500);\n",
       "            "
      ],
      "text/plain": [
       "<IPython.core.display.Javascript object>"
      ]
     },
     "metadata": {},
     "output_type": "display_data"
    }
   ],
   "source": [
    "# Fit model to training data\n",
    "import pickle as pkl\n",
    "\n",
    "model = XGBClassifier()\n",
    "model.fit(X_train, y_train)\n",
    "\n",
    "# save model to file\n",
    "pkl.dump(model, open(\"num_planets_model.p\", \"wb\"))"
   ]
  },
  {
   "cell_type": "markdown",
   "metadata": {},
   "source": [
    "## Test"
   ]
  },
  {
   "cell_type": "code",
   "execution_count": 7,
   "metadata": {},
   "outputs": [
    {
     "data": {
      "application/javascript": [
       "\n",
       "            setTimeout(function() {\n",
       "                var nbb_cell_id = 7;\n",
       "                var nbb_unformatted_code = \"# make predictions for test data\\ny_pred = model.predict(X_test)\\npredictions = [round(value) for value in y_pred]\";\n",
       "                var nbb_formatted_code = \"# make predictions for test data\\ny_pred = model.predict(X_test)\\npredictions = [round(value) for value in y_pred]\";\n",
       "                var nbb_cells = Jupyter.notebook.get_cells();\n",
       "                for (var i = 0; i < nbb_cells.length; ++i) {\n",
       "                    if (nbb_cells[i].input_prompt_number == nbb_cell_id) {\n",
       "                        if (nbb_cells[i].get_text() == nbb_unformatted_code) {\n",
       "                             nbb_cells[i].set_text(nbb_formatted_code);\n",
       "                        }\n",
       "                        break;\n",
       "                    }\n",
       "                }\n",
       "            }, 500);\n",
       "            "
      ],
      "text/plain": [
       "<IPython.core.display.Javascript object>"
      ]
     },
     "metadata": {},
     "output_type": "display_data"
    }
   ],
   "source": [
    "# make predictions for test data\n",
    "y_pred = model.predict(X_test)\n",
    "predictions = [round(value) for value in y_pred]"
   ]
  },
  {
   "cell_type": "code",
   "execution_count": 8,
   "metadata": {},
   "outputs": [
    {
     "name": "stdout",
     "output_type": "stream",
     "text": [
      "Accuracy: 83.43%\n"
     ]
    },
    {
     "data": {
      "application/javascript": [
       "\n",
       "            setTimeout(function() {\n",
       "                var nbb_cell_id = 8;\n",
       "                var nbb_unformatted_code = \"accuracy = accuracy_score(y_test, predictions)\\nprint(\\\"Accuracy: %.2f%%\\\" % (accuracy * 100.0))\";\n",
       "                var nbb_formatted_code = \"accuracy = accuracy_score(y_test, predictions)\\nprint(\\\"Accuracy: %.2f%%\\\" % (accuracy * 100.0))\";\n",
       "                var nbb_cells = Jupyter.notebook.get_cells();\n",
       "                for (var i = 0; i < nbb_cells.length; ++i) {\n",
       "                    if (nbb_cells[i].input_prompt_number == nbb_cell_id) {\n",
       "                        if (nbb_cells[i].get_text() == nbb_unformatted_code) {\n",
       "                             nbb_cells[i].set_text(nbb_formatted_code);\n",
       "                        }\n",
       "                        break;\n",
       "                    }\n",
       "                }\n",
       "            }, 500);\n",
       "            "
      ],
      "text/plain": [
       "<IPython.core.display.Javascript object>"
      ]
     },
     "metadata": {},
     "output_type": "display_data"
    }
   ],
   "source": [
    "accuracy = accuracy_score(y_test, predictions)\n",
    "print(\"Accuracy: %.2f%%\" % (accuracy * 100.0))"
   ]
  },
  {
   "cell_type": "code",
   "execution_count": null,
   "metadata": {},
   "outputs": [],
   "source": []
  }
 ],
 "metadata": {
  "kernelspec": {
   "display_name": "Python 3",
   "language": "python",
   "name": "python3"
  },
  "language_info": {
   "codemirror_mode": {
    "name": "ipython",
    "version": 3
   },
   "file_extension": ".py",
   "mimetype": "text/x-python",
   "name": "python",
   "nbconvert_exporter": "python",
   "pygments_lexer": "ipython3",
   "version": "3.7.4"
  }
 },
 "nbformat": 4,
 "nbformat_minor": 4
}
