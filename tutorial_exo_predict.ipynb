{
 "cells": [
  {
   "cell_type": "markdown",
   "metadata": {},
   "source": [
    "## Exo-Predict"
   ]
  },
  {
   "cell_type": "markdown",
   "metadata": {},
   "source": [
    "This notebook is a tutorial for the usage of the `exo_predict` module. Using a model trained on all confirmed planets from the NASA Exoplanet Archive, the exo_predict module contains functionality to predict whether a system likely has a single planet or multiple planets. It does this using only a few features of the system: the stellar mass of the central star, the effective temperature, the radius of the star, and the method of discovery. This can be accomplished in the following three steps:\n",
    "\n",
    "1) Create an instance of the class with the `create_num_planets_predictor` function  \n",
    "\n",
    "2) Load your data as a pandas dataframe and enter the names of your columns that contain the relevant information  \n",
    "\n",
    "3) Make your prediction!"
   ]
  },
  {
   "cell_type": "code",
   "execution_count": 1,
   "metadata": {},
   "outputs": [],
   "source": [
    "import pandas as pd\n",
    "from exo_predict import create_num_planets_predictor as cnpp"
   ]
  },
  {
   "cell_type": "code",
   "execution_count": 2,
   "metadata": {},
   "outputs": [],
   "source": [
    "# Load data into the notebook\n",
    "df = pd.read_csv(\"planets_2020.06.23_15.26.09.csv\", skiprows=147)"
   ]
  },
  {
   "cell_type": "markdown",
   "metadata": {},
   "source": [
    "### 1) Use the cnpp function to create an instance of the predictor class"
   ]
  },
  {
   "cell_type": "code",
   "execution_count": 3,
   "metadata": {},
   "outputs": [],
   "source": [
    "num_planets_predictor = cnpp()"
   ]
  },
  {
   "cell_type": "markdown",
   "metadata": {},
   "source": [
    "### 2) With the `load_data` function, read in your data as a pandas dataframe.\n",
    "\n",
    "Be sure to accurately name the columns that contain the important features. We need these columns for the model to work."
   ]
  },
  {
   "cell_type": "code",
   "execution_count": 4,
   "metadata": {},
   "outputs": [],
   "source": [
    "# Load the dataframe and columns \n",
    "num_planets_predictor.load_data(\n",
    "    df,\n",
    "    mass_col=\"st_mass\",\n",
    "    temp_col=\"st_teff\",\n",
    "    rad_col=\"st_rad\",\n",
    "    discmethod=\"pl_discmethod\",\n",
    ")"
   ]
  },
  {
   "cell_type": "markdown",
   "metadata": {},
   "source": [
    "### 3) Use the `make_prediction`  function to get your results!"
   ]
  },
  {
   "cell_type": "code",
   "execution_count": 5,
   "metadata": {},
   "outputs": [],
   "source": [
    "prediction_df = num_planets_predictor.make_prediction()\n",
    "\n",
    "print(prediction_df)"
   ]
  },
  {
   "cell_type": "code",
   "execution_count": null,
   "metadata": {},
   "outputs": [],
   "source": []
  }
 ],
 "metadata": {
  "kernelspec": {
   "display_name": "Python 3",
   "language": "python",
   "name": "python3"
  },
  "language_info": {
   "codemirror_mode": {
    "name": "ipython",
    "version": 3
   },
   "file_extension": ".py",
   "mimetype": "text/x-python",
   "name": "python",
   "nbconvert_exporter": "python",
   "pygments_lexer": "ipython3",
   "version": "3.7.4"
  }
 },
 "nbformat": 4,
 "nbformat_minor": 4
}
