{
 "cells": [
  {
   "cell_type": "markdown",
   "metadata": {},
   "source": [
    "## Exo-Model & Predict\n",
    "\n",
    "This notebook is a tutorial for the usage of the `exo_model_predict` module. The `exo_model_predict` module uses your data to train a model to predict whether a system likely has one or more planets. In order to train it, it need a few features: the stellar mass of the central star, the effective temperature, the radius of the star, and the method of discovery. Only a portion of your data will be used for training the model, and the rest will be used for testing. You can set the proportion to be used for testing with the `test_size` argument when you initialize the ExoTrainer class. Typical proportions for training/testing are 70/30 and 80/20."
   ]
  },
  {
   "cell_type": "code",
   "execution_count": 1,
   "metadata": {},
   "outputs": [],
   "source": [
    "import pandas as pd\n",
    "import exo_model_predict as mp"
   ]
  },
  {
   "cell_type": "markdown",
   "metadata": {},
   "source": [
    "### 1) Load in the data to be used to train the model\n",
    "\n",
    "This data should include all the feature columns, as well as the 'labels' or answers so we can train the model. This column should contain the number of planets in each system. "
   ]
  },
  {
   "cell_type": "code",
   "execution_count": 2,
   "metadata": {},
   "outputs": [],
   "source": [
    "df = pd.read_csv(\"../data/planets_edited.csv\", skiprows=2)"
   ]
  },
  {
   "cell_type": "code",
   "execution_count": 3,
   "metadata": {},
   "outputs": [],
   "source": [
    "# Create an instance of the class\n",
    "exo_model = mp.ExoTrainer(\n",
    "    df,\n",
    "    mass_col=\"st_mass\",\n",
    "    temp_col=\"st_teff\",\n",
    "    rad_col=\"st_rad\",\n",
    "    discmethod=\"pl_discmethod\",\n",
    "    pl_pnum = 'pl_pnum',\n",
    "    test_size = 0.2)"
   ]
  },
  {
   "cell_type": "markdown",
   "metadata": {},
   "source": [
    "### 2) Use the `make_model` function to train the model\n",
    "\n",
    "This function will return the data that was used for testing, as well as the model. Once the model has completed training, it should print the accuracy, precision and other metrics of the model."
   ]
  },
  {
   "cell_type": "code",
   "execution_count": 4,
   "metadata": {},
   "outputs": [
    {
     "name": "stdout",
     "output_type": "stream",
     "text": [
      "Accuracy: 85.37%\n",
      "Confusion:[[21700  2600]\n",
      " [ 3500 13900]]\n",
      "Recall: 79.89%\n",
      "Precision: 84.24%\n"
     ]
    }
   ],
   "source": [
    "X_test, y_test, model = exo_model.make_exomodel()"
   ]
  },
  {
   "cell_type": "markdown",
   "metadata": {},
   "source": [
    "### 3) Use the `predict_exoplanets`  function to get your results!\n",
    "\n",
    "Read in your new data (where you have no idea what the number of planets is!) and let your model work its magic! For this tutorial, we'll use the TESS confirmed exoplanets. Ensure that the column names being input in the dataframe match those that you used to train the model."
   ]
  },
  {
   "cell_type": "code",
   "execution_count": 5,
   "metadata": {},
   "outputs": [],
   "source": [
    "tess_data = pd.read_csv('../data/tess_planets.csv', skiprows = 363)"
   ]
  },
  {
   "cell_type": "code",
   "execution_count": 6,
   "metadata": {},
   "outputs": [
    {
     "name": "stderr",
     "output_type": "stream",
     "text": [
      "/Users/jeaadams/codeastro_ml_planets/Tutorials/exo_model_predict.py:120: SettingWithCopyWarning: \n",
      "A value is trying to be set on a copy of a slice from a DataFrame.\n",
      "Try using .loc[row_indexer,col_indexer] = value instead\n",
      "\n",
      "See the caveats in the documentation: https://pandas.pydata.org/pandas-docs/stable/user_guide/indexing.html#returning-a-view-versus-a-copy\n",
      "  X_data[\"predictions\"] = y_pred_df[\"predictions\"]\n"
     ]
    }
   ],
   "source": [
    "exo_predictions = exo_model.predict_exoplanets(\n",
    "    data = tess_data,\n",
    "    mass_col=\"st_mass\",\n",
    "    temp_col=\"st_teff\",\n",
    "    rad_col=\"st_rad\",\n",
    "    discmethod=\"pl_discmethod\") "
   ]
  },
  {
   "cell_type": "code",
   "execution_count": 7,
   "metadata": {},
   "outputs": [
    {
     "name": "stdout",
     "output_type": "stream",
     "text": [
      "    st_mass  st_teff  st_rad  pct_discmethod       predictions\n",
      "0      0.50   3700.0    0.75        0.961538     single planet\n",
      "1      1.01   5428.0    0.96        0.961538     single planet\n",
      "2      0.38   3458.0    0.39        0.961538     single planet\n",
      "3      0.73   4640.0    0.69        0.961538     single planet\n",
      "4      0.34   3505.0    0.34        0.961538  multiple planets\n",
      "5      1.32   5521.0    2.34        0.961538     single planet\n",
      "6      0.90   5125.0    0.86        0.961538     single planet\n",
      "7      0.90   5125.0    0.86        0.961538     single planet\n",
      "8      1.72   6272.0    2.59        0.961538     single planet\n",
      "9      1.07   5978.0    1.10        0.961538     single planet\n",
      "10     0.73   4640.0    0.69        0.961538     single planet\n",
      "11     0.92   5527.0    1.03        0.961538     single planet\n",
      "12     1.21   5080.0    2.94        0.961538     single planet\n",
      "13     0.75      NaN    0.73        0.961538  multiple planets\n",
      "14     0.75      NaN    0.73        0.961538  multiple planets\n",
      "15     1.43   6801.0    1.56        0.961538     single planet\n",
      "16     1.13   6089.0    1.28        0.961538     single planet\n",
      "17     1.15   6201.0    1.31        0.961538  multiple planets\n",
      "18     1.15   6201.0    1.31        0.961538  multiple planets\n",
      "19     1.15   6201.0    1.31        0.961538  multiple planets\n",
      "20     0.62   3800.0    0.60        0.961538     single planet\n",
      "21     0.31   3412.0    0.31        0.961538  multiple planets\n",
      "22     0.31   3412.0    0.31        0.961538  multiple planets\n",
      "23     0.31   3412.0    0.31        0.961538  multiple planets\n",
      "24     0.50   3643.0    0.50        0.961538     single planet\n",
      "25     0.15   3036.0    0.19        0.961538     single planet\n",
      "26     0.14   2960.0    0.17        0.961538  multiple planets\n",
      "27     0.14   2960.0    0.17        0.961538  multiple planets\n",
      "28     0.26   3337.0    0.28        0.961538     single planet\n",
      "29     0.40   3331.0    0.37        0.961538  multiple planets\n",
      "30     0.40   3331.0    0.37        0.961538  multiple planets\n",
      "31     0.68   4250.0    0.69        0.961538  multiple planets\n",
      "32     0.68   4250.0    0.69        0.961538  multiple planets\n",
      "33     0.64   3872.0    0.63        0.961538     single planet\n",
      "34     0.86   5320.0    0.85        0.961538     single planet\n",
      "35     0.86   5320.0    0.85        0.961538     single planet\n",
      "36     0.86   5320.0    0.85        0.961538     single planet\n",
      "37     0.97   5397.0    0.90        0.961538     single planet\n",
      "38     1.13   6050.0    1.33        0.961538     single planet\n",
      "39     1.35   6255.0    1.53        0.961538     single planet\n",
      "40     1.44   6495.0    1.65        0.961538     single planet\n",
      "41     1.13   5645.0    1.78        0.961538     single planet\n",
      "42     0.87   5026.0    0.84        0.961538     single planet\n",
      "43     0.87   5026.0    0.84        0.961538     single planet\n",
      "44     0.40   3386.0    0.38        0.961538  multiple planets\n",
      "45     0.40   3386.0    0.38        0.961538  multiple planets\n",
      "46     0.40   3386.0    0.38        0.961538  multiple planets\n",
      "47     1.18   6295.0    1.28        0.961538     single planet\n",
      "48     1.32   5907.0    1.94        0.961538     single planet\n",
      "49     1.12   5800.0    1.27        0.038462  multiple planets\n",
      "50     1.22   6400.0    1.23        0.038462  multiple planets\n",
      "51     1.09   6037.0    1.10        0.961538     single planet\n"
     ]
    }
   ],
   "source": [
    "print(exo_predictions)"
   ]
  },
  {
   "cell_type": "code",
   "execution_count": null,
   "metadata": {},
   "outputs": [],
   "source": []
  }
 ],
 "metadata": {
  "kernelspec": {
   "display_name": "Python 3",
   "language": "python",
   "name": "python3"
  },
  "language_info": {
   "codemirror_mode": {
    "name": "ipython",
    "version": 3
   },
   "file_extension": ".py",
   "mimetype": "text/x-python",
   "name": "python",
   "nbconvert_exporter": "python",
   "pygments_lexer": "ipython3",
   "version": "3.7.4"
  }
 },
 "nbformat": 4,
 "nbformat_minor": 4
}
